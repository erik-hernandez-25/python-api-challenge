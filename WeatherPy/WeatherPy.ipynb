{
 "cells": [
  {
   "cell_type": "markdown",
   "metadata": {},
   "source": [
    "# WeatherPy\n",
    "----\n",
    "\n",
    "#### Note\n",
    "* Instructions have been included for each segment. You do not have to follow them exactly, but they are included to help you think through the steps."
   ]
  },
  {
   "cell_type": "code",
   "execution_count": 147,
   "metadata": {
    "scrolled": true
   },
   "outputs": [],
   "source": [
    "# Dependencies and Setup\n",
    "import matplotlib.pyplot as plt\n",
    "import pandas as pd\n",
    "import numpy as np\n",
    "import requests\n",
    "import time\n",
    "from scipy import stats\n",
    "\n",
    "# Import API key\n",
    "from api_keys import weather_api_key\n",
    "\n",
    "# Incorporated citipy to determine city based on latitude and longitude\n",
    "from citipy import citipy\n",
    "\n",
    "# Output File (CSV)\n",
    "output_data_file = \"output_data/cities.csv\"\n",
    "\n",
    "# Range of latitudes and longitudes\n",
    "lat_range = (-90, 90)\n",
    "lng_range = (-180, 180)"
   ]
  },
  {
   "cell_type": "markdown",
   "metadata": {},
   "source": [
    "## Generate Cities List"
   ]
  },
  {
   "cell_type": "code",
   "execution_count": 110,
   "metadata": {},
   "outputs": [
    {
     "data": {
      "text/plain": [
       "572"
      ]
     },
     "execution_count": 110,
     "metadata": {},
     "output_type": "execute_result"
    }
   ],
   "source": [
    "# List for holding lat_lngs and cities\n",
    "lat_lngs = []\n",
    "cities = []\n",
    "\n",
    "# Create a set of random lat and lng combinations\n",
    "lats = np.random.uniform(lat_range[0], lat_range[1], size=1500)\n",
    "lngs = np.random.uniform(lng_range[0], lng_range[1], size=1500)\n",
    "lat_lngs = zip(lats, lngs)\n",
    "\n",
    "# Identify nearest city for each lat, lng combination\n",
    "for lat_lng in lat_lngs:\n",
    "    city = citipy.nearest_city(lat_lng[0], lat_lng[1]).city_name\n",
    "    \n",
    "    # If the city is unique, then add it to a our cities list\n",
    "    if city not in cities:\n",
    "        cities.append(city)\n",
    "\n",
    "# Print the city count to confirm sufficient count\n",
    "len(cities)"
   ]
  },
  {
   "cell_type": "code",
   "execution_count": 188,
   "metadata": {},
   "outputs": [
    {
     "data": {
      "text/plain": [
       "['touros',\n",
       " 'louisbourg',\n",
       " 'sentyabrskiy',\n",
       " 'qaanaaq',\n",
       " 'attawapiskat',\n",
       " 'new norfolk',\n",
       " 'jumla',\n",
       " 'chokurdakh',\n",
       " 'kloulklubed',\n",
       " 'severo-kurilsk',\n",
       " 'bredasdorp',\n",
       " 'dicabisagan',\n",
       " 'provideniya',\n",
       " 'varhaug',\n",
       " 'cap-aux-meules']"
      ]
     },
     "execution_count": 188,
     "metadata": {},
     "output_type": "execute_result"
    }
   ],
   "source": [
    "#Step to slice initial data to reduce testing API Calls: \n",
    "#Just modify or remove the number o items instead of 15: \"cities[:15]\"\n",
    "cities_shorted = cities[:15]\n",
    "cities_shorted"
   ]
  },
  {
   "cell_type": "markdown",
   "metadata": {},
   "source": [
    "### Perform API Calls\n",
    "* Perform a weather check on each city using a series of successive API calls.\n",
    "* Include a print log of each city as it'sbeing processed (with the city number and city name).\n"
   ]
  },
  {
   "cell_type": "code",
   "execution_count": 177,
   "metadata": {
    "scrolled": true
   },
   "outputs": [
    {
     "name": "stdout",
     "output_type": "stream",
     "text": [
      "Making request number: 0 for ID: touros\n",
      "City request number: 1 for ID: louisbourg Not Found\n",
      "City request number: 2 for ID: sentyabrskiy Not Found\n",
      "Making request number: 3 for ID: qaanaaq\n",
      "City request number: 4 for ID: attawapiskat Not Found\n",
      "Making request number: 5 for ID: new norfolk\n",
      "Making request number: 6 for ID: jumla\n",
      "Making request number: 7 for ID: chokurdakh\n",
      "Making request number: 8 for ID: kloulklubed\n",
      "Making request number: 9 for ID: severo-kurilsk\n",
      "Making request number: 10 for ID: bredasdorp\n",
      "Making request number: 11 for ID: dicabisagan\n",
      "Making request number: 12 for ID: provideniya\n",
      "Making request number: 13 for ID: varhaug\n",
      "Making request number: 14 for ID: cap-aux-meules\n",
      "City request number: 15 for ID: taolanaro Not Found\n",
      "City request number: 16 for ID: ambodifototra Not Found\n",
      "Making request number: 17 for ID: kapaa\n",
      "Making request number: 18 for ID: katsuura\n",
      "Making request number: 19 for ID: cayenne\n",
      "Making request number: 20 for ID: limbe\n",
      "Making request number: 21 for ID: barrow\n",
      "Making request number: 22 for ID: kuytun\n",
      "Making request number: 23 for ID: yumen\n",
      "Making request number: 24 for ID: carnarvon\n",
      "Making request number: 25 for ID: kavieng\n",
      "Making request number: 26 for ID: te anau\n",
      "Making request number: 27 for ID: kavaratti\n",
      "Making request number: 28 for ID: la ronge\n",
      "Making request number: 29 for ID: chokwe\n",
      "Making request number: 30 for ID: ostrovnoy\n",
      "Making request number: 31 for ID: bambous virieux\n",
      "Making request number: 32 for ID: alice springs\n",
      "Making request number: 33 for ID: avarua\n",
      "City request number: 34 for ID: jabiru Not Found\n",
      "Making request number: 35 for ID: bluff\n",
      "Making request number: 36 for ID: wilmington island\n",
      "Making request number: 37 for ID: faanui\n",
      "Making request number: 38 for ID: thompson\n",
      "Making request number: 39 for ID: south yuba city\n",
      "Making request number: 40 for ID: nanortalik\n",
      "Making request number: 41 for ID: cidreira\n",
      "Making request number: 42 for ID: katherine\n",
      "Making request number: 43 for ID: tuktoyaktuk\n",
      "Making request number: 44 for ID: mataura\n",
      "Making request number: 45 for ID: nha trang\n",
      "Making request number: 46 for ID: mar del plata\n",
      "Making request number: 47 for ID: cherskiy\n",
      "City request number: 48 for ID: viligili Not Found\n",
      "Making request number: 49 for ID: georgetown\n",
      "Making request number: 50 for ID: puerto ayora\n",
      "Making request number: 51 for ID: pasinler\n",
      "Making request number: 52 for ID: broome\n",
      "Making request number: 53 for ID: dikson\n",
      "Making request number: 54 for ID: bethel\n",
      "Making request number: 55 for ID: rikitea\n",
      "Making request number: 56 for ID: manaure\n",
      "Making request number: 57 for ID: hilo\n",
      "Making request number: 58 for ID: saint-philippe\n",
      "Making request number: 59 for ID: havre-saint-pierre\n",
      "Making request number: 60 for ID: upernavik\n",
      "Making request number: 61 for ID: oranjestad\n",
      "Making request number: 62 for ID: fortuna\n",
      "Making request number: 63 for ID: east london\n",
      "Making request number: 64 for ID: jamestown\n",
      "Making request number: 65 for ID: albany\n",
      "City request number: 66 for ID: saleaula Not Found\n",
      "City request number: 67 for ID: palabuhanratu Not Found\n",
      "Making request number: 68 for ID: busselton\n",
      "City request number: 69 for ID: illoqqortoormiut Not Found\n",
      "Making request number: 70 for ID: lebu\n",
      "Making request number: 71 for ID: hermanus\n",
      "Making request number: 72 for ID: padang\n",
      "Making request number: 73 for ID: chuy\n",
      "Making request number: 74 for ID: lagoa\n",
      "Making request number: 75 for ID: victoria\n",
      "Making request number: 76 for ID: langxiang\n",
      "Making request number: 77 for ID: hithadhoo\n",
      "Making request number: 78 for ID: alyangula\n",
      "Making request number: 79 for ID: cape town\n",
      "Making request number: 80 for ID: ushuaia\n",
      "Making request number: 81 for ID: hamilton\n",
      "Making request number: 82 for ID: bonaventure\n",
      "City request number: 83 for ID: vaitupu Not Found\n",
      "Making request number: 84 for ID: butaritari\n",
      "Making request number: 85 for ID: atuona\n",
      "Making request number: 86 for ID: punta arenas\n",
      "Making request number: 87 for ID: tiksi\n",
      "City request number: 88 for ID: bolungarvik Not Found\n",
      "Making request number: 89 for ID: kaitangata\n",
      "Making request number: 90 for ID: bonavista\n",
      "City request number: 91 for ID: borama Not Found\n",
      "Making request number: 92 for ID: kakonko\n",
      "Making request number: 93 for ID: komsomolskiy\n",
      "Making request number: 94 for ID: redlands\n",
      "Making request number: 95 for ID: selje\n",
      "Making request number: 96 for ID: acapulco\n",
      "Making request number: 97 for ID: vila franca do campo\n",
      "Making request number: 98 for ID: richards bay\n",
      "Making request number: 99 for ID: moree\n",
      "Making request number: 100 for ID: usinsk\n",
      "Making request number: 101 for ID: wrexham\n",
      "Making request number: 102 for ID: banjarmasin\n",
      "Making request number: 103 for ID: qaqortoq\n",
      "Making request number: 104 for ID: guarapari\n",
      "Making request number: 105 for ID: graaff-reinet\n",
      "Making request number: 106 for ID: tura\n",
      "Making request number: 107 for ID: kodiak\n",
      "City request number: 108 for ID: belushya guba Not Found\n",
      "City request number: 109 for ID: tsihombe Not Found\n",
      "Making request number: 110 for ID: puyo\n",
      "Making request number: 111 for ID: lugovoy\n",
      "City request number: 112 for ID: amancio Not Found\n",
      "Making request number: 113 for ID: margate\n",
      "Making request number: 114 for ID: saskylakh\n",
      "Making request number: 115 for ID: hobart\n",
      "Making request number: 116 for ID: sion\n",
      "City request number: 117 for ID: amderma Not Found\n",
      "Making request number: 118 for ID: vidim\n",
      "Making request number: 119 for ID: henties bay\n",
      "Making request number: 120 for ID: san isidro\n",
      "Making request number: 121 for ID: ust-tsilma\n",
      "Making request number: 122 for ID: ilulissat\n",
      "Making request number: 123 for ID: sola\n",
      "City request number: 124 for ID: nizhneyansk Not Found\n",
      "Making request number: 125 for ID: pangnirtung\n",
      "Making request number: 126 for ID: clyde river\n",
      "Making request number: 127 for ID: jesus del monte\n",
      "Making request number: 128 for ID: ponta do sol\n",
      "Making request number: 129 for ID: kasane\n",
      "Making request number: 130 for ID: torbay\n",
      "Making request number: 131 for ID: luderitz\n",
      "City request number: 132 for ID: bur gabo Not Found\n",
      "City request number: 133 for ID: grand river south east Not Found\n",
      "Making request number: 134 for ID: dangara\n",
      "Making request number: 135 for ID: conceicao do araguaia\n",
      "Making request number: 136 for ID: krasnaya poyma\n",
      "Making request number: 137 for ID: severobaykalsk\n",
      "Making request number: 138 for ID: cervo\n",
      "Making request number: 139 for ID: port alfred\n",
      "Making request number: 140 for ID: vaini\n",
      "City request number: 141 for ID: dolbeau Not Found\n",
      "Making request number: 142 for ID: esperance\n",
      "Making request number: 143 for ID: jalu\n",
      "Making request number: 144 for ID: airai\n",
      "Making request number: 145 for ID: viedma\n",
      "Making request number: 146 for ID: kiama\n",
      "Making request number: 147 for ID: timaru\n",
      "Making request number: 148 for ID: loubomo\n",
      "Making request number: 149 for ID: pisco\n",
      "Making request number: 150 for ID: ankpa\n",
      "Making request number: 151 for ID: santa fe\n",
      "Making request number: 152 for ID: vernon\n",
      "Making request number: 153 for ID: bairiki\n",
      "Making request number: 154 for ID: palu\n",
      "Making request number: 155 for ID: kangaatsiaq\n",
      "Making request number: 156 for ID: tuatapere\n",
      "Making request number: 157 for ID: fort-shevchenko\n",
      "Making request number: 158 for ID: odweyne\n",
      "Making request number: 159 for ID: roald\n",
      "Making request number: 160 for ID: longyearbyen\n",
      "Making request number: 161 for ID: san quintin\n",
      "Making request number: 162 for ID: pafos\n",
      "Making request number: 163 for ID: montecristo\n",
      "Making request number: 164 for ID: lata\n",
      "Making request number: 165 for ID: zhigansk\n",
      "Making request number: 166 for ID: torrington\n",
      "Making request number: 167 for ID: diamantino\n",
      "Making request number: 168 for ID: yellowknife\n",
      "Making request number: 169 for ID: trairi\n",
      "Making request number: 170 for ID: wodonga\n",
      "Making request number: 171 for ID: acarau\n",
      "Making request number: 172 for ID: fort nelson\n",
      "Making request number: 173 for ID: chapais\n",
      "Making request number: 174 for ID: riviere-au-renard\n",
      "Making request number: 175 for ID: sitka\n",
      "Making request number: 176 for ID: samarai\n",
      "Making request number: 177 for ID: xiongzhou\n",
      "Making request number: 178 for ID: cabo san lucas\n",
      "Making request number: 179 for ID: mandera\n",
      "Making request number: 180 for ID: saint-pierre\n",
      "Making request number: 181 for ID: gimli\n"
     ]
    },
    {
     "name": "stdout",
     "output_type": "stream",
     "text": [
      "Making request number: 182 for ID: yar-sale\n",
      "Making request number: 183 for ID: klaksvik\n",
      "Making request number: 184 for ID: naze\n",
      "Making request number: 185 for ID: ketou\n",
      "Making request number: 186 for ID: banda aceh\n",
      "Making request number: 187 for ID: los llanos de aridane\n",
      "Making request number: 188 for ID: aguimes\n",
      "Making request number: 189 for ID: aksu\n",
      "Making request number: 190 for ID: mormugao\n",
      "Making request number: 191 for ID: tonekabon\n",
      "Making request number: 192 for ID: linqing\n",
      "Making request number: 193 for ID: saint george\n",
      "Making request number: 194 for ID: alofi\n",
      "Making request number: 195 for ID: bud\n",
      "City request number: 196 for ID: samusu Not Found\n",
      "Making request number: 197 for ID: rypefjord\n",
      "Making request number: 198 for ID: srednekolymsk\n",
      "Making request number: 199 for ID: moron\n",
      "Making request number: 200 for ID: norman wells\n",
      "Making request number: 201 for ID: vostok\n",
      "Making request number: 202 for ID: meulaboh\n",
      "Making request number: 203 for ID: marzuq\n",
      "Making request number: 204 for ID: kokopo\n",
      "Making request number: 205 for ID: prainha\n",
      "Making request number: 206 for ID: dosso\n",
      "Making request number: 207 for ID: ribeira grande\n",
      "Making request number: 208 for ID: nikolskoye\n",
      "Making request number: 209 for ID: muncie\n",
      "Making request number: 210 for ID: nelson bay\n",
      "Making request number: 211 for ID: umm lajj\n",
      "Making request number: 212 for ID: pangkalanbuun\n",
      "Making request number: 213 for ID: mahebourg\n",
      "Making request number: 214 for ID: souillac\n",
      "Making request number: 215 for ID: bodden town\n",
      "Making request number: 216 for ID: pevek\n",
      "Making request number: 217 for ID: kerman\n",
      "Making request number: 218 for ID: saint-georges\n",
      "Making request number: 219 for ID: endicott\n",
      "Making request number: 220 for ID: hofn\n",
      "Making request number: 221 for ID: vila velha\n",
      "Making request number: 222 for ID: chernyshevskiy\n",
      "Making request number: 223 for ID: sulangan\n",
      "Making request number: 224 for ID: prince rupert\n",
      "Making request number: 225 for ID: ciudad bolivar\n",
      "City request number: 226 for ID: samalaeulu Not Found\n",
      "Making request number: 227 for ID: saint-augustin\n",
      "Making request number: 228 for ID: port augusta\n",
      "Making request number: 229 for ID: bathsheba\n",
      "Making request number: 230 for ID: grand gaube\n",
      "Making request number: 231 for ID: san cristobal\n",
      "Making request number: 232 for ID: hays\n",
      "Making request number: 233 for ID: iqaluit\n",
      "Making request number: 234 for ID: san patricio\n",
      "Making request number: 235 for ID: santa cruz\n",
      "Making request number: 236 for ID: beboto\n",
      "Making request number: 237 for ID: progreso\n",
      "Making request number: 238 for ID: uruacu\n",
      "Making request number: 239 for ID: port blair\n",
      "Making request number: 240 for ID: fairmount\n",
      "Making request number: 241 for ID: zavetnoye\n",
      "Making request number: 242 for ID: bindura\n",
      "Making request number: 243 for ID: xichang\n",
      "Making request number: 244 for ID: lompoc\n",
      "Making request number: 245 for ID: ballarat\n",
      "Making request number: 246 for ID: tasiilaq\n",
      "Making request number: 247 for ID: azul\n",
      "Making request number: 248 for ID: kitimat\n",
      "Making request number: 249 for ID: kruisfontein\n",
      "Making request number: 250 for ID: singaparna\n",
      "Making request number: 251 for ID: yeppoon\n",
      "Making request number: 252 for ID: invermere\n",
      "Making request number: 253 for ID: dvinskoy\n",
      "Making request number: 254 for ID: oistins\n",
      "Making request number: 255 for ID: fuerte olimpo\n",
      "Making request number: 256 for ID: baykit\n",
      "Making request number: 257 for ID: port lincoln\n",
      "Making request number: 258 for ID: maceio\n",
      "City request number: 259 for ID: mys shmidta Not Found\n",
      "Making request number: 260 for ID: grindavik\n",
      "Making request number: 261 for ID: abu samrah\n",
      "Making request number: 262 for ID: pandan\n",
      "Making request number: 263 for ID: kendari\n",
      "Making request number: 264 for ID: mazyr\n",
      "Making request number: 265 for ID: ishigaki\n",
      "Making request number: 266 for ID: codrington\n",
      "Making request number: 267 for ID: xuddur\n",
      "Making request number: 268 for ID: dingle\n",
      "Making request number: 269 for ID: vardo\n",
      "Making request number: 270 for ID: havelock\n",
      "Making request number: 271 for ID: white rock\n",
      "Making request number: 272 for ID: quelimane\n",
      "Making request number: 273 for ID: porto santo\n",
      "Making request number: 274 for ID: olafsvik\n",
      "City request number: 275 for ID: barentsburg Not Found\n",
      "Making request number: 276 for ID: cabedelo\n",
      "City request number: 277 for ID: rungata Not Found\n",
      "Making request number: 278 for ID: neiafu\n",
      "Making request number: 279 for ID: hasaki\n",
      "Making request number: 280 for ID: golden\n",
      "Making request number: 281 for ID: bengkulu\n",
      "Making request number: 282 for ID: ulaanbaatar\n",
      "Making request number: 283 for ID: imbituba\n",
      "Making request number: 284 for ID: nome\n",
      "Making request number: 285 for ID: arraial do cabo\n",
      "Making request number: 286 for ID: baijiantan\n",
      "Making request number: 287 for ID: thinadhoo\n",
      "Making request number: 288 for ID: tarko-sale\n",
      "Making request number: 289 for ID: khatanga\n",
      "Making request number: 290 for ID: port elizabeth\n",
      "Making request number: 291 for ID: itaituba\n",
      "Making request number: 292 for ID: bata\n",
      "Making request number: 293 for ID: mahibadhoo\n",
      "City request number: 294 for ID: kuche Not Found\n",
      "Making request number: 295 for ID: statesboro\n",
      "Making request number: 296 for ID: harsud\n",
      "Making request number: 297 for ID: jishou\n",
      "Making request number: 298 for ID: nemuro\n",
      "Making request number: 299 for ID: montague\n",
      "Making request number: 300 for ID: jardim\n",
      "Making request number: 301 for ID: sorland\n",
      "Making request number: 302 for ID: inyonga\n",
      "Making request number: 303 for ID: dawei\n",
      "Making request number: 304 for ID: makakilo city\n",
      "Making request number: 305 for ID: wattegama\n",
      "Making request number: 306 for ID: high level\n",
      "Making request number: 307 for ID: bharatpur\n",
      "Making request number: 308 for ID: zhezkazgan\n",
      "Making request number: 309 for ID: gull lake\n",
      "Making request number: 310 for ID: allapalli\n",
      "Making request number: 311 for ID: guerrero negro\n",
      "Making request number: 312 for ID: aswan\n",
      "Making request number: 313 for ID: amahai\n",
      "Making request number: 314 for ID: locri\n",
      "Making request number: 315 for ID: lubao\n",
      "Making request number: 316 for ID: valenca\n",
      "Making request number: 317 for ID: rincon\n",
      "City request number: 318 for ID: sahrak Not Found\n",
      "Making request number: 319 for ID: krasnokamensk\n",
      "Making request number: 320 for ID: capitao poco\n",
      "Making request number: 321 for ID: jaragua\n",
      "Making request number: 322 for ID: tazovskiy\n",
      "Making request number: 323 for ID: miri\n",
      "Making request number: 324 for ID: vestmannaeyjar\n",
      "Making request number: 325 for ID: porto san giorgio\n",
      "Making request number: 326 for ID: ossora\n",
      "Making request number: 327 for ID: russellville\n",
      "Making request number: 328 for ID: asau\n",
      "Making request number: 329 for ID: castro\n",
      "Making request number: 330 for ID: makinsk\n",
      "Making request number: 331 for ID: raychikhinsk\n",
      "Making request number: 332 for ID: rio gallegos\n",
      "Making request number: 333 for ID: umm kaddadah\n",
      "Making request number: 334 for ID: vodnyy\n",
      "Making request number: 335 for ID: damaturu\n",
      "Making request number: 336 for ID: port hardy\n",
      "Making request number: 337 for ID: pemangkat\n",
      "Making request number: 338 for ID: flinders\n",
      "City request number: 339 for ID: marcona Not Found\n",
      "Making request number: 340 for ID: lima\n",
      "City request number: 341 for ID: warqla Not Found\n",
      "Making request number: 342 for ID: soyo\n",
      "Making request number: 343 for ID: tommot\n",
      "Making request number: 344 for ID: waipawa\n",
      "Making request number: 345 for ID: coquimbo\n",
      "Making request number: 346 for ID: varzea da palma\n",
      "Making request number: 347 for ID: ahipara\n",
      "Making request number: 348 for ID: uaua\n",
      "Making request number: 349 for ID: port-gentil\n",
      "City request number: 350 for ID: tabiauea Not Found\n",
      "Making request number: 351 for ID: nishihara\n",
      "Making request number: 352 for ID: elverum\n",
      "Making request number: 353 for ID: sao filipe\n",
      "Making request number: 354 for ID: brae\n",
      "Making request number: 355 for ID: jussara\n",
      "Making request number: 356 for ID: dudinka\n",
      "City request number: 357 for ID: kobojango Not Found\n",
      "Making request number: 358 for ID: broken hill\n",
      "Making request number: 359 for ID: bilma\n",
      "City request number: 360 for ID: safwah Not Found\n",
      "Making request number: 361 for ID: san joaquin\n",
      "City request number: 362 for ID: bacuit Not Found\n",
      "Making request number: 363 for ID: trelew\n",
      "Making request number: 364 for ID: laguna\n"
     ]
    },
    {
     "name": "stdout",
     "output_type": "stream",
     "text": [
      "City request number: 365 for ID: hendijan Not Found\n",
      "Making request number: 366 for ID: kununurra\n",
      "Making request number: 367 for ID: tolstoy-yurt\n",
      "Making request number: 368 for ID: ikungi\n",
      "Making request number: 369 for ID: bagdarin\n",
      "Making request number: 370 for ID: varca\n",
      "Making request number: 371 for ID: kostomuksha\n",
      "Making request number: 372 for ID: ganganagar\n",
      "Making request number: 373 for ID: axim\n",
      "Making request number: 374 for ID: orange cove\n",
      "Making request number: 375 for ID: havoysund\n",
      "Making request number: 376 for ID: maridi\n",
      "Making request number: 377 for ID: kuito\n",
      "Making request number: 378 for ID: bichura\n",
      "Making request number: 379 for ID: opuwo\n",
      "Making request number: 380 for ID: semey\n",
      "Making request number: 381 for ID: ancud\n",
      "City request number: 382 for ID: ngukurr Not Found\n",
      "Making request number: 383 for ID: namibe\n",
      "Making request number: 384 for ID: benalla\n",
      "Making request number: 385 for ID: shebalino\n",
      "Making request number: 386 for ID: talaya\n",
      "Making request number: 387 for ID: shingu\n",
      "Making request number: 388 for ID: itarema\n",
      "Making request number: 389 for ID: madimba\n",
      "Making request number: 390 for ID: sorong\n",
      "Making request number: 391 for ID: mayo\n",
      "Making request number: 392 for ID: yerbogachen\n",
      "Making request number: 393 for ID: maracaju\n",
      "Making request number: 394 for ID: gamba\n",
      "Making request number: 395 for ID: lang son\n",
      "Making request number: 396 for ID: chalus\n",
      "Making request number: 397 for ID: la rioja\n",
      "Making request number: 398 for ID: muravlenko\n",
      "Making request number: 399 for ID: half moon bay\n",
      "Making request number: 400 for ID: leningradskiy\n",
      "Making request number: 401 for ID: steamboat springs\n",
      "Making request number: 402 for ID: hami\n",
      "Making request number: 403 for ID: nouadhibou\n",
      "City request number: 404 for ID: meyungs Not Found\n",
      "Making request number: 405 for ID: lavrentiya\n",
      "Making request number: 406 for ID: atar\n",
      "Making request number: 407 for ID: cairns\n",
      "Making request number: 408 for ID: kyren\n",
      "Making request number: 409 for ID: popondetta\n",
      "Making request number: 410 for ID: lerwick\n",
      "Making request number: 411 for ID: dori\n",
      "Making request number: 412 for ID: saalfeld\n",
      "City request number: 413 for ID: borujan Not Found\n",
      "Making request number: 414 for ID: marystown\n",
      "Making request number: 415 for ID: la primavera\n",
      "Making request number: 416 for ID: mangai\n",
      "Making request number: 417 for ID: kahului\n",
      "Making request number: 418 for ID: moshupa\n",
      "Making request number: 419 for ID: saldanha\n",
      "Making request number: 420 for ID: madras\n",
      "Making request number: 421 for ID: linkou\n",
      "Making request number: 422 for ID: minsk\n",
      "Making request number: 423 for ID: galesong\n",
      "Making request number: 424 for ID: mount isa\n",
      "Making request number: 425 for ID: payo\n",
      "Making request number: 426 for ID: benicarlo\n",
      "Making request number: 427 for ID: paamiut\n",
      "Making request number: 428 for ID: minab\n",
      "Making request number: 429 for ID: ketchikan\n",
      "Making request number: 430 for ID: tahe\n",
      "Making request number: 431 for ID: nerchinskiy zavod\n",
      "Making request number: 432 for ID: melfi\n",
      "Making request number: 433 for ID: necochea\n",
      "Making request number: 434 for ID: bowen\n",
      "City request number: 435 for ID: gurgan Not Found\n",
      "Making request number: 436 for ID: ballina\n",
      "Making request number: 437 for ID: sibu\n",
      "Making request number: 438 for ID: maningrida\n",
      "Making request number: 439 for ID: emerald\n",
      "Making request number: 440 for ID: biak\n",
      "Making request number: 441 for ID: biloela\n",
      "Making request number: 442 for ID: polunochnoye\n",
      "Making request number: 443 for ID: manokwari\n",
      "Making request number: 444 for ID: labuhan\n",
      "Making request number: 445 for ID: ponta delgada\n",
      "Making request number: 446 for ID: tsiroanomandidy\n",
      "Making request number: 447 for ID: sarab\n",
      "Making request number: 448 for ID: mayumba\n",
      "Making request number: 449 for ID: encruzilhada\n",
      "Making request number: 450 for ID: bealanana\n",
      "Making request number: 451 for ID: matamoros\n",
      "City request number: 452 for ID: hunza Not Found\n",
      "Making request number: 453 for ID: luena\n",
      "Making request number: 454 for ID: ascension\n",
      "City request number: 455 for ID: formoso do araguaia Not Found\n",
      "Making request number: 456 for ID: peachland\n",
      "City request number: 457 for ID: buqayq Not Found\n",
      "Making request number: 458 for ID: alta floresta\n",
      "Making request number: 459 for ID: kuopio\n",
      "Making request number: 460 for ID: maksatikha\n",
      "Making request number: 461 for ID: duiwelskloof\n",
      "Making request number: 462 for ID: belmonte\n",
      "Making request number: 463 for ID: bjerkvik\n",
      "Making request number: 464 for ID: nuuk\n",
      "Making request number: 465 for ID: ambon\n",
      "Making request number: 466 for ID: tome\n",
      "Making request number: 467 for ID: abha\n",
      "Making request number: 468 for ID: zilupe\n",
      "Making request number: 469 for ID: solnechnyy\n",
      "Making request number: 470 for ID: port macquarie\n",
      "Making request number: 471 for ID: lasa\n",
      "Making request number: 472 for ID: bilibino\n",
      "Making request number: 473 for ID: shibetsu\n",
      "Making request number: 474 for ID: grand island\n",
      "Making request number: 475 for ID: toamasina\n",
      "Making request number: 476 for ID: lasem\n",
      "Making request number: 477 for ID: torit\n",
      "Making request number: 478 for ID: inhambane\n",
      "Making request number: 479 for ID: la macarena\n",
      "Making request number: 480 for ID: springfield\n",
      "Making request number: 481 for ID: saint anthony\n",
      "Making request number: 482 for ID: dabat\n",
      "Making request number: 483 for ID: wolow\n",
      "Making request number: 484 for ID: muisne\n",
      "Making request number: 485 for ID: cuamba\n",
      "Making request number: 486 for ID: carmelo\n",
      "Making request number: 487 for ID: kathmandu\n",
      "Making request number: 488 for ID: saint-louis\n",
      "Making request number: 489 for ID: aykhal\n",
      "Making request number: 490 for ID: kaoma\n",
      "Making request number: 491 for ID: irbeyskoye\n",
      "Making request number: 492 for ID: bereda\n",
      "City request number: 493 for ID: aporawan Not Found\n",
      "Making request number: 494 for ID: taltal\n",
      "Making request number: 495 for ID: baruun-urt\n",
      "Making request number: 496 for ID: iquitos\n",
      "Making request number: 497 for ID: hobyo\n",
      "Making request number: 498 for ID: ashiya\n",
      "Making request number: 499 for ID: polovinnoye\n",
      "Making request number: 500 for ID: bandipur\n",
      "Making request number: 501 for ID: tabuk\n",
      "City request number: 502 for ID: kamenskoye Not Found\n",
      "Making request number: 503 for ID: oranjemund\n",
      "City request number: 504 for ID: eskasem Not Found\n",
      "Making request number: 505 for ID: pasighat\n",
      "City request number: 506 for ID: tanshui Not Found\n",
      "Making request number: 507 for ID: lakatoro\n",
      "Making request number: 508 for ID: constitucion\n",
      "Making request number: 509 for ID: senno\n",
      "City request number: 510 for ID: lolua Not Found\n",
      "Making request number: 511 for ID: port keats\n",
      "Making request number: 512 for ID: karaton\n",
      "Making request number: 513 for ID: bontang\n",
      "Making request number: 514 for ID: muros\n",
      "Making request number: 515 for ID: kashi\n",
      "Making request number: 516 for ID: taunggyi\n",
      "Making request number: 517 for ID: ust-maya\n",
      "Making request number: 518 for ID: kemijarvi\n",
      "Making request number: 519 for ID: vilyuysk\n",
      "Making request number: 520 for ID: dongying\n",
      "Making request number: 521 for ID: itaueira\n",
      "Making request number: 522 for ID: sulphur springs\n",
      "Making request number: 523 for ID: miles city\n",
      "Making request number: 524 for ID: ishinomaki\n",
      "Making request number: 525 for ID: savalou\n",
      "Making request number: 526 for ID: fairbanks\n",
      "Making request number: 527 for ID: yantal\n",
      "Making request number: 528 for ID: dali\n",
      "Making request number: 529 for ID: buala\n",
      "Making request number: 530 for ID: aitape\n",
      "Making request number: 531 for ID: chumikan\n",
      "Making request number: 532 for ID: santa maria\n",
      "City request number: 533 for ID: scottsburgh Not Found\n",
      "Making request number: 534 for ID: faya\n",
      "City request number: 535 for ID: jubayl Not Found\n",
      "Making request number: 536 for ID: deputatskiy\n",
      "Making request number: 537 for ID: vanavara\n",
      "Making request number: 538 for ID: luang prabang\n",
      "Making request number: 539 for ID: lapua\n",
      "Making request number: 540 for ID: kungurtug\n",
      "Making request number: 541 for ID: mkushi\n",
      "Making request number: 542 for ID: moose factory\n",
      "City request number: 543 for ID: chom bung Not Found\n",
      "Making request number: 544 for ID: geraldton\n",
      "Making request number: 545 for ID: port hedland\n",
      "Making request number: 546 for ID: huarmey\n",
      "Making request number: 547 for ID: sidi ali\n",
      "Making request number: 548 for ID: saint-denis\n"
     ]
    },
    {
     "name": "stdout",
     "output_type": "stream",
     "text": [
      "Making request number: 549 for ID: yayva\n",
      "Making request number: 550 for ID: zlobin\n",
      "Making request number: 551 for ID: dharchula\n",
      "Making request number: 552 for ID: banff\n",
      "Making request number: 553 for ID: faridpur\n",
      "Making request number: 554 for ID: sleaford\n",
      "City request number: 555 for ID: tunxi Not Found\n",
      "Making request number: 556 for ID: corpus christi\n",
      "Making request number: 557 for ID: camacha\n",
      "City request number: 558 for ID: deh rawud Not Found\n",
      "City request number: 559 for ID: xiangdong Not Found\n",
      "Making request number: 560 for ID: anadyr\n",
      "Making request number: 561 for ID: aklavik\n",
      "Making request number: 562 for ID: ambulu\n",
      "Making request number: 563 for ID: teguldet\n",
      "Making request number: 564 for ID: altamira\n",
      "Making request number: 565 for ID: bhimunipatnam\n",
      "Making request number: 566 for ID: sao joao da barra\n",
      "Making request number: 567 for ID: batagay-alyta\n",
      "Making request number: 568 for ID: ljubovija\n",
      "Making request number: 569 for ID: tarpon springs\n",
      "Making request number: 570 for ID: zverinogolovskoye\n",
      "Making request number: 571 for ID: yulara\n"
     ]
    }
   ],
   "source": [
    "# Save config information.\n",
    "url = \"http://api.openweathermap.org/data/2.5/weather?\"\n",
    "units = \"metric\"\n",
    "\n",
    "# Build partial query URL\n",
    "query_url = f\"{url}appid={weather_api_key}&units={units}&q=\"\n",
    "\n",
    "#Create lists to collect data\n",
    "city= []\n",
    "lat=[]\n",
    "lng=[]\n",
    "temp= []\n",
    "mxtemp = []\n",
    "humid = []\n",
    "speed = []\n",
    "clouds = []\n",
    "country = []\n",
    "date = []\n",
    "\n",
    "\n",
    "for x in range(len(cities_shorted)):\n",
    "    response = requests.get(query_url + str(cities_shorted[x])).json()\n",
    "    \n",
    "    try:\n",
    "        city.append(response[\"name\"])\n",
    "        lat.append(response['coord']['lat'])\n",
    "        lng.append(response['coord']['lon'])\n",
    "        temp.append(response['main']['temp'])\n",
    "        humid.append(response['main']['humidity'])\n",
    "        mxtemp.append(response['main']['temp_max'])\n",
    "        speed.append(response['wind']['speed'])\n",
    "        clouds.append(response['clouds']['all'])\n",
    "        country.append(response['sys']['country'])\n",
    "        date.append(response['dt'])\n",
    "        print(f\"Making request number: {x} for ID: {cities_shorted[x]}\")\n",
    "\n",
    "    except:\n",
    "        #Append null values\n",
    "        print(f\"City request number: {x} for ID: {cities_shorted[x]} Not Found\")\n",
    "        pass\n"
   ]
  },
  {
   "cell_type": "markdown",
   "metadata": {},
   "source": [
    "### Convert Raw Data to DataFrame\n",
    "* Export the city data into a .csv.\n",
    "* Display the DataFrame"
   ]
  },
  {
   "cell_type": "code",
   "execution_count": 178,
   "metadata": {},
   "outputs": [
    {
     "data": {
      "text/html": [
       "<div>\n",
       "<style scoped>\n",
       "    .dataframe tbody tr th:only-of-type {\n",
       "        vertical-align: middle;\n",
       "    }\n",
       "\n",
       "    .dataframe tbody tr th {\n",
       "        vertical-align: top;\n",
       "    }\n",
       "\n",
       "    .dataframe thead th {\n",
       "        text-align: right;\n",
       "    }\n",
       "</style>\n",
       "<table border=\"1\" class=\"dataframe\">\n",
       "  <thead>\n",
       "    <tr style=\"text-align: right;\">\n",
       "      <th></th>\n",
       "      <th>City</th>\n",
       "      <th>Lat</th>\n",
       "      <th>Lng</th>\n",
       "      <th>Temperature</th>\n",
       "      <th>Max Temp</th>\n",
       "      <th>Humidity</th>\n",
       "      <th>Cloudiness</th>\n",
       "      <th>Wind Speed</th>\n",
       "      <th>Country</th>\n",
       "      <th>Date</th>\n",
       "    </tr>\n",
       "  </thead>\n",
       "  <tbody>\n",
       "    <tr>\n",
       "      <th>0</th>\n",
       "      <td>Touros</td>\n",
       "      <td>-5.1989</td>\n",
       "      <td>-35.4608</td>\n",
       "      <td>27.00</td>\n",
       "      <td>27.00</td>\n",
       "      <td>78</td>\n",
       "      <td>40</td>\n",
       "      <td>2.57</td>\n",
       "      <td>BR</td>\n",
       "      <td>1613268475</td>\n",
       "    </tr>\n",
       "    <tr>\n",
       "      <th>1</th>\n",
       "      <td>Qaanaaq</td>\n",
       "      <td>77.4840</td>\n",
       "      <td>-69.3632</td>\n",
       "      <td>-13.55</td>\n",
       "      <td>-13.55</td>\n",
       "      <td>76</td>\n",
       "      <td>0</td>\n",
       "      <td>2.63</td>\n",
       "      <td>GL</td>\n",
       "      <td>1613268476</td>\n",
       "    </tr>\n",
       "    <tr>\n",
       "      <th>2</th>\n",
       "      <td>New Norfolk</td>\n",
       "      <td>-42.7826</td>\n",
       "      <td>147.0587</td>\n",
       "      <td>21.18</td>\n",
       "      <td>23.33</td>\n",
       "      <td>35</td>\n",
       "      <td>0</td>\n",
       "      <td>1.34</td>\n",
       "      <td>AU</td>\n",
       "      <td>1613268476</td>\n",
       "    </tr>\n",
       "    <tr>\n",
       "      <th>3</th>\n",
       "      <td>Jumla</td>\n",
       "      <td>29.2747</td>\n",
       "      <td>82.1838</td>\n",
       "      <td>5.19</td>\n",
       "      <td>5.19</td>\n",
       "      <td>63</td>\n",
       "      <td>100</td>\n",
       "      <td>1.34</td>\n",
       "      <td>NP</td>\n",
       "      <td>1613268477</td>\n",
       "    </tr>\n",
       "    <tr>\n",
       "      <th>4</th>\n",
       "      <td>Chokurdakh</td>\n",
       "      <td>70.6333</td>\n",
       "      <td>147.9167</td>\n",
       "      <td>-28.45</td>\n",
       "      <td>-28.45</td>\n",
       "      <td>78</td>\n",
       "      <td>0</td>\n",
       "      <td>0.56</td>\n",
       "      <td>RU</td>\n",
       "      <td>1613268477</td>\n",
       "    </tr>\n",
       "  </tbody>\n",
       "</table>\n",
       "</div>"
      ],
      "text/plain": [
       "          City      Lat       Lng  Temperature  Max Temp  Humidity  \\\n",
       "0       Touros  -5.1989  -35.4608        27.00     27.00        78   \n",
       "1      Qaanaaq  77.4840  -69.3632       -13.55    -13.55        76   \n",
       "2  New Norfolk -42.7826  147.0587        21.18     23.33        35   \n",
       "3        Jumla  29.2747   82.1838         5.19      5.19        63   \n",
       "4   Chokurdakh  70.6333  147.9167       -28.45    -28.45        78   \n",
       "\n",
       "   Cloudiness  Wind Speed Country        Date  \n",
       "0          40        2.57      BR  1613268475  \n",
       "1           0        2.63      GL  1613268476  \n",
       "2           0        1.34      AU  1613268476  \n",
       "3         100        1.34      NP  1613268477  \n",
       "4           0        0.56      RU  1613268477  "
      ]
     },
     "execution_count": 178,
     "metadata": {},
     "output_type": "execute_result"
    }
   ],
   "source": [
    "weather_response_dict = {\n",
    "    \"City\": city,\n",
    "    \"Lat\": lat,\n",
    "    \"Lng\": lng,\n",
    "    \"Temperature\": temp,\n",
    "    \"Max Temp\": mxtemp,\n",
    "    \"Humidity\": humid,\n",
    "    \"Cloudiness\": clouds,\n",
    "    \"Wind Speed\": speed,\n",
    "    \"Country\": country,\n",
    "    \"Date\": date\n",
    "}\n",
    "\n",
    "weather_data = pd.DataFrame(weather_response_dict)\n",
    "weather_data.head()"
   ]
  },
  {
   "cell_type": "code",
   "execution_count": 179,
   "metadata": {},
   "outputs": [
    {
     "data": {
      "text/html": [
       "<div>\n",
       "<style scoped>\n",
       "    .dataframe tbody tr th:only-of-type {\n",
       "        vertical-align: middle;\n",
       "    }\n",
       "\n",
       "    .dataframe tbody tr th {\n",
       "        vertical-align: top;\n",
       "    }\n",
       "\n",
       "    .dataframe thead th {\n",
       "        text-align: right;\n",
       "    }\n",
       "</style>\n",
       "<table border=\"1\" class=\"dataframe\">\n",
       "  <thead>\n",
       "    <tr style=\"text-align: right;\">\n",
       "      <th></th>\n",
       "      <th>Lat</th>\n",
       "      <th>Lng</th>\n",
       "      <th>Temperature</th>\n",
       "      <th>Max Temp</th>\n",
       "      <th>Humidity</th>\n",
       "      <th>Cloudiness</th>\n",
       "      <th>Wind Speed</th>\n",
       "      <th>Date</th>\n",
       "    </tr>\n",
       "  </thead>\n",
       "  <tbody>\n",
       "    <tr>\n",
       "      <th>count</th>\n",
       "      <td>519.000000</td>\n",
       "      <td>519.000000</td>\n",
       "      <td>519.000000</td>\n",
       "      <td>519.000000</td>\n",
       "      <td>519.000000</td>\n",
       "      <td>519.000000</td>\n",
       "      <td>519.000000</td>\n",
       "      <td>5.190000e+02</td>\n",
       "    </tr>\n",
       "    <tr>\n",
       "      <th>mean</th>\n",
       "      <td>19.256870</td>\n",
       "      <td>21.396899</td>\n",
       "      <td>8.571002</td>\n",
       "      <td>8.851464</td>\n",
       "      <td>75.508671</td>\n",
       "      <td>54.780347</td>\n",
       "      <td>3.395549</td>\n",
       "      <td>1.613269e+09</td>\n",
       "    </tr>\n",
       "    <tr>\n",
       "      <th>std</th>\n",
       "      <td>34.156797</td>\n",
       "      <td>91.045575</td>\n",
       "      <td>18.426344</td>\n",
       "      <td>18.436155</td>\n",
       "      <td>17.483788</td>\n",
       "      <td>40.917021</td>\n",
       "      <td>2.724177</td>\n",
       "      <td>6.884852e+01</td>\n",
       "    </tr>\n",
       "    <tr>\n",
       "      <th>min</th>\n",
       "      <td>-54.800000</td>\n",
       "      <td>-175.200000</td>\n",
       "      <td>-39.430000</td>\n",
       "      <td>-39.430000</td>\n",
       "      <td>10.000000</td>\n",
       "      <td>0.000000</td>\n",
       "      <td>0.180000</td>\n",
       "      <td>1.613268e+09</td>\n",
       "    </tr>\n",
       "    <tr>\n",
       "      <th>25%</th>\n",
       "      <td>-9.858500</td>\n",
       "      <td>-57.715650</td>\n",
       "      <td>-4.590000</td>\n",
       "      <td>-4.000000</td>\n",
       "      <td>68.000000</td>\n",
       "      <td>4.000000</td>\n",
       "      <td>1.510000</td>\n",
       "      <td>1.613269e+09</td>\n",
       "    </tr>\n",
       "    <tr>\n",
       "      <th>50%</th>\n",
       "      <td>22.285500</td>\n",
       "      <td>25.415500</td>\n",
       "      <td>14.820000</td>\n",
       "      <td>15.560000</td>\n",
       "      <td>79.000000</td>\n",
       "      <td>75.000000</td>\n",
       "      <td>2.570000</td>\n",
       "      <td>1.613269e+09</td>\n",
       "    </tr>\n",
       "    <tr>\n",
       "      <th>75%</th>\n",
       "      <td>49.783600</td>\n",
       "      <td>105.679350</td>\n",
       "      <td>23.890000</td>\n",
       "      <td>24.000000</td>\n",
       "      <td>88.000000</td>\n",
       "      <td>98.000000</td>\n",
       "      <td>4.600000</td>\n",
       "      <td>1.613269e+09</td>\n",
       "    </tr>\n",
       "    <tr>\n",
       "      <th>max</th>\n",
       "      <td>78.218600</td>\n",
       "      <td>178.416700</td>\n",
       "      <td>32.000000</td>\n",
       "      <td>32.000000</td>\n",
       "      <td>100.000000</td>\n",
       "      <td>100.000000</td>\n",
       "      <td>21.440000</td>\n",
       "      <td>1.613269e+09</td>\n",
       "    </tr>\n",
       "  </tbody>\n",
       "</table>\n",
       "</div>"
      ],
      "text/plain": [
       "              Lat         Lng  Temperature    Max Temp    Humidity  \\\n",
       "count  519.000000  519.000000   519.000000  519.000000  519.000000   \n",
       "mean    19.256870   21.396899     8.571002    8.851464   75.508671   \n",
       "std     34.156797   91.045575    18.426344   18.436155   17.483788   \n",
       "min    -54.800000 -175.200000   -39.430000  -39.430000   10.000000   \n",
       "25%     -9.858500  -57.715650    -4.590000   -4.000000   68.000000   \n",
       "50%     22.285500   25.415500    14.820000   15.560000   79.000000   \n",
       "75%     49.783600  105.679350    23.890000   24.000000   88.000000   \n",
       "max     78.218600  178.416700    32.000000   32.000000  100.000000   \n",
       "\n",
       "       Cloudiness  Wind Speed          Date  \n",
       "count  519.000000  519.000000  5.190000e+02  \n",
       "mean    54.780347    3.395549  1.613269e+09  \n",
       "std     40.917021    2.724177  6.884852e+01  \n",
       "min      0.000000    0.180000  1.613268e+09  \n",
       "25%      4.000000    1.510000  1.613269e+09  \n",
       "50%     75.000000    2.570000  1.613269e+09  \n",
       "75%     98.000000    4.600000  1.613269e+09  \n",
       "max    100.000000   21.440000  1.613269e+09  "
      ]
     },
     "execution_count": 179,
     "metadata": {},
     "output_type": "execute_result"
    }
   ],
   "source": [
    "weather_data.describe()"
   ]
  },
  {
   "cell_type": "markdown",
   "metadata": {},
   "source": [
    "## Inspect the data and remove the cities where the humidity > 100%.\n",
    "----\n",
    "Skip this step if there are no cities that have humidity > 100%. "
   ]
  },
  {
   "cell_type": "code",
   "execution_count": 180,
   "metadata": {},
   "outputs": [
    {
     "name": "stdout",
     "output_type": "stream",
     "text": [
      "There are 0 cities with Humidity over 100%\n"
     ]
    }
   ],
   "source": [
    "# filtering data \n",
    "try:\n",
    "    filtered_data = weather_data[weather_data.Humidity > 100]\n",
    "    count =  len(filtered_data[\"City\"])\n",
    "    print(f\"There are {count} cities with Humidity over 100%\")\n",
    "    \n",
    "except 0:\n",
    "    print(\"There are no Cities with Humidity over 100%\")\n",
    "\n",
    "\n"
   ]
  },
  {
   "cell_type": "code",
   "execution_count": 181,
   "metadata": {},
   "outputs": [],
   "source": [
    "#  Get the indices of cities that have humidity over 100%.\n",
    "indexes = weather_data.index[weather_data['Humidity'] > 100].tolist()"
   ]
  },
  {
   "cell_type": "code",
   "execution_count": 182,
   "metadata": {},
   "outputs": [
    {
     "data": {
      "text/html": [
       "<div>\n",
       "<style scoped>\n",
       "    .dataframe tbody tr th:only-of-type {\n",
       "        vertical-align: middle;\n",
       "    }\n",
       "\n",
       "    .dataframe tbody tr th {\n",
       "        vertical-align: top;\n",
       "    }\n",
       "\n",
       "    .dataframe thead th {\n",
       "        text-align: right;\n",
       "    }\n",
       "</style>\n",
       "<table border=\"1\" class=\"dataframe\">\n",
       "  <thead>\n",
       "    <tr style=\"text-align: right;\">\n",
       "      <th></th>\n",
       "      <th>City</th>\n",
       "      <th>Lat</th>\n",
       "      <th>Lng</th>\n",
       "      <th>Temperature</th>\n",
       "      <th>Max Temp</th>\n",
       "      <th>Humidity</th>\n",
       "      <th>Cloudiness</th>\n",
       "      <th>Wind Speed</th>\n",
       "      <th>Country</th>\n",
       "      <th>Date</th>\n",
       "    </tr>\n",
       "  </thead>\n",
       "  <tbody>\n",
       "    <tr>\n",
       "      <th>0</th>\n",
       "      <td>Touros</td>\n",
       "      <td>-5.1989</td>\n",
       "      <td>-35.4608</td>\n",
       "      <td>27.00</td>\n",
       "      <td>27.00</td>\n",
       "      <td>78</td>\n",
       "      <td>40</td>\n",
       "      <td>2.57</td>\n",
       "      <td>BR</td>\n",
       "      <td>1613268475</td>\n",
       "    </tr>\n",
       "    <tr>\n",
       "      <th>1</th>\n",
       "      <td>Qaanaaq</td>\n",
       "      <td>77.4840</td>\n",
       "      <td>-69.3632</td>\n",
       "      <td>-13.55</td>\n",
       "      <td>-13.55</td>\n",
       "      <td>76</td>\n",
       "      <td>0</td>\n",
       "      <td>2.63</td>\n",
       "      <td>GL</td>\n",
       "      <td>1613268476</td>\n",
       "    </tr>\n",
       "    <tr>\n",
       "      <th>2</th>\n",
       "      <td>New Norfolk</td>\n",
       "      <td>-42.7826</td>\n",
       "      <td>147.0587</td>\n",
       "      <td>21.18</td>\n",
       "      <td>23.33</td>\n",
       "      <td>35</td>\n",
       "      <td>0</td>\n",
       "      <td>1.34</td>\n",
       "      <td>AU</td>\n",
       "      <td>1613268476</td>\n",
       "    </tr>\n",
       "    <tr>\n",
       "      <th>3</th>\n",
       "      <td>Jumla</td>\n",
       "      <td>29.2747</td>\n",
       "      <td>82.1838</td>\n",
       "      <td>5.19</td>\n",
       "      <td>5.19</td>\n",
       "      <td>63</td>\n",
       "      <td>100</td>\n",
       "      <td>1.34</td>\n",
       "      <td>NP</td>\n",
       "      <td>1613268477</td>\n",
       "    </tr>\n",
       "    <tr>\n",
       "      <th>4</th>\n",
       "      <td>Chokurdakh</td>\n",
       "      <td>70.6333</td>\n",
       "      <td>147.9167</td>\n",
       "      <td>-28.45</td>\n",
       "      <td>-28.45</td>\n",
       "      <td>78</td>\n",
       "      <td>0</td>\n",
       "      <td>0.56</td>\n",
       "      <td>RU</td>\n",
       "      <td>1613268477</td>\n",
       "    </tr>\n",
       "  </tbody>\n",
       "</table>\n",
       "</div>"
      ],
      "text/plain": [
       "          City      Lat       Lng  Temperature  Max Temp  Humidity  \\\n",
       "0       Touros  -5.1989  -35.4608        27.00     27.00        78   \n",
       "1      Qaanaaq  77.4840  -69.3632       -13.55    -13.55        76   \n",
       "2  New Norfolk -42.7826  147.0587        21.18     23.33        35   \n",
       "3        Jumla  29.2747   82.1838         5.19      5.19        63   \n",
       "4   Chokurdakh  70.6333  147.9167       -28.45    -28.45        78   \n",
       "\n",
       "   Cloudiness  Wind Speed Country        Date  \n",
       "0          40        2.57      BR  1613268475  \n",
       "1           0        2.63      GL  1613268476  \n",
       "2           0        1.34      AU  1613268476  \n",
       "3         100        1.34      NP  1613268477  \n",
       "4           0        0.56      RU  1613268477  "
      ]
     },
     "execution_count": 182,
     "metadata": {},
     "output_type": "execute_result"
    }
   ],
   "source": [
    "# Make a new DataFrame equal to the city data to drop all humidity outliers by index.\n",
    "cities_analysis = weather_data[weather_data.Humidity <= 100]\n",
    "cities_analysis.head()"
   ]
  },
  {
   "cell_type": "code",
   "execution_count": 186,
   "metadata": {},
   "outputs": [],
   "source": [
    "#Export to CSV cities being analyzed\n",
    "cities_analysis.to_csv(r'output_data/cities.csv', index = False)"
   ]
  },
  {
   "cell_type": "code",
   "execution_count": 187,
   "metadata": {},
   "outputs": [],
   "source": [
    "#  Get cities by index that have humidity over 100%.\n",
    "for x in range(len(indexes)):\n",
    "    print(weather_data.iloc[x])"
   ]
  },
  {
   "cell_type": "markdown",
   "metadata": {},
   "source": [
    "## Plotting the Data\n",
    "* Use proper labeling of the plots using plot titles (including date of analysis) and axes labels.\n",
    "* Save the plotted figures as .pngs."
   ]
  },
  {
   "cell_type": "markdown",
   "metadata": {},
   "source": [
    "## Latitude vs. Temperature Plot"
   ]
  },
  {
   "cell_type": "code",
   "execution_count": 189,
   "metadata": {},
   "outputs": [
    {
     "data": {
      "image/png": "[encoded data removed]",
      "text/plain": [
       "<Figure size 432x288 with 1 Axes>"
      ]
     },
     "metadata": {
      "needs_background": "light"
     },
     "output_type": "display_data"
    },
    {
     "name": "stdout",
     "output_type": "stream",
     "text": [
      "This graph show the temperature of each city according to their latitude\n"
     ]
    }
   ],
   "source": [
    "x_values = cities_analysis['Lat']\n",
    "y_values = cities_analysis['Temperature']\n",
    "plt.scatter(x_values,y_values,edgecolors=\"black\")\n",
    "plt.title('City Latitude vs Temperature 13/02/21')\n",
    "plt.xlabel('Latitude')\n",
    "plt.ylabel('Temperature in C')\n",
    "\n",
    "plt.grid(color='#d3d3d3', linestyle='-', linewidth=1, axis='both')\n",
    "\n",
    "plt.show()\n",
    "print(\"This graph show the temperature of each city according to their latitude\")"
   ]
  },
  {
   "cell_type": "markdown",
   "metadata": {},
   "source": [
    "## Latitude vs. Humidity Plot"
   ]
  },
  {
   "cell_type": "code",
   "execution_count": 190,
   "metadata": {},
   "outputs": [
    {
     "data": {
      "image/png": "[encoded data removed]",
      "text/plain": [
       "<Figure size 432x288 with 1 Axes>"
      ]
     },
     "metadata": {
      "needs_background": "light"
     },
     "output_type": "display_data"
    },
    {
     "name": "stdout",
     "output_type": "stream",
     "text": [
      "This graph show the humidity percentage level of each city according to their latitude\n"
     ]
    }
   ],
   "source": [
    "x_values = cities_analysis['Lat']\n",
    "y_values = cities_analysis['Humidity']\n",
    "plt.scatter(x_values,y_values,edgecolors=\"black\")\n",
    "plt.title('City Latitude vs Humidity 13/02/21')\n",
    "plt.xlabel('Latitude')\n",
    "plt.ylabel('Humidity')\n",
    "plt.grid(color='grey', linestyle='-', linewidth=1, axis='both')\n",
    "plt.savefig('Latitude_v_humidity.png')\n",
    "plt.show()\n",
    "print(\"This graph show the humidity percentage level of each city according to their latitude\")"
   ]
  },
  {
   "cell_type": "markdown",
   "metadata": {},
   "source": [
    "## Latitude vs. Cloudiness Plot"
   ]
  },
  {
   "cell_type": "code",
   "execution_count": 191,
   "metadata": {},
   "outputs": [
    {
     "data": {
      "image/png": "[encoded data removed]",
      "text/plain": [
       "<Figure size 432x288 with 1 Axes>"
      ]
     },
     "metadata": {
      "needs_background": "light"
     },
     "output_type": "display_data"
    },
    {
     "name": "stdout",
     "output_type": "stream",
     "text": [
      "This graph show the cloudiness in percentage of each city according to their latitude\n"
     ]
    }
   ],
   "source": [
    "x_values = cities_analysis['Lat']\n",
    "y_values = cities_analysis['Cloudiness']\n",
    "plt.scatter(x_values,y_values,edgecolors=\"black\")\n",
    "plt.title('City Latitude vs Cloudiness 13/02/21')\n",
    "plt.xlabel('Latitude')\n",
    "plt.ylabel('Cloudiness')\n",
    "plt.grid(color='grey', linestyle='-', linewidth=1, axis='both')\n",
    "plt.savefig('Latitude_v_cloudiness.png')\n",
    "plt.show()\n",
    "print(\"This graph show the cloudiness in percentage of each city according to their latitude\")"
   ]
  },
  {
   "cell_type": "markdown",
   "metadata": {},
   "source": [
    "## Latitude vs. Wind Speed Plot"
   ]
  },
  {
   "cell_type": "code",
   "execution_count": 192,
   "metadata": {},
   "outputs": [
    {
     "data": {
      "image/png": "[encoded data removed]",
      "text/plain": [
       "<Figure size 432x288 with 1 Axes>"
      ]
     },
     "metadata": {
      "needs_background": "light"
     },
     "output_type": "display_data"
    },
    {
     "name": "stdout",
     "output_type": "stream",
     "text": [
      "This graph show the wind speed in km of each city according to their latitude\n"
     ]
    }
   ],
   "source": [
    "x_values = cities_analysis['Lat']\n",
    "y_values = cities_analysis['Wind Speed']\n",
    "plt.scatter(x_values,y_values,edgecolors=\"black\")\n",
    "plt.title('City Latitude vs Wind Speed 13/02/21')\n",
    "plt.xlabel('Latitude')\n",
    "plt.ylabel('Wind Speed')\n",
    "plt.grid(color='grey', linestyle='-', linewidth=1, axis='both')\n",
    "plt.savefig('Latitude_v_wind_speed.png')\n",
    "plt.show()\n",
    "print(\"This graph show the wind speed in km of each city according to their latitude\")"
   ]
  },
  {
   "cell_type": "markdown",
   "metadata": {},
   "source": [
    "## Linear Regression"
   ]
  },
  {
   "cell_type": "code",
   "execution_count": 193,
   "metadata": {},
   "outputs": [],
   "source": [
    "northern_emisphere = cities_analysis[cities_analysis.Lat >= 0]\n",
    "southern_emisphere = cities_analysis[cities_analysis.Lat < 0]"
   ]
  },
  {
   "cell_type": "markdown",
   "metadata": {},
   "source": [
    "Northern Hemisphere - Max Temp vs. Latitude Linear Regression"
   ]
  },
  {
   "cell_type": "code",
   "execution_count": 194,
   "metadata": {},
   "outputs": [
    {
     "name": "stdout",
     "output_type": "stream",
     "text": [
      "The r-value is: 0.7551787675317655\n"
     ]
    },
    {
     "data": {
      "image/png": "[encoded data removed]",
      "text/plain": [
       "<Figure size 432x288 with 1 Axes>"
      ]
     },
     "metadata": {
      "needs_background": "light"
     },
     "output_type": "display_data"
    }
   ],
   "source": [
    "# Perform a linear regression on temperature vs. latitude from the northern emisphere greater than or equal to 0 degrees latitude\n",
    "x_values = northern_emisphere[\"Lat\"]\n",
    "y_values = northern_emisphere[\"Max Temp\"]\n",
    "(slope, intercept, rvalue, pvalue, stderr) = stats.linregress(x_values, y_values)\n",
    "\n",
    "# Get regression values\n",
    "regress_values = x_values * slope + intercept\n",
    "\n",
    "# Create line equation string\n",
    "line_eq = \"y = \" + str(round(slope,2)) + \"x +\" + str(round(intercept,2))\n",
    "\n",
    "# Create Plot\n",
    "plt.scatter(x_values,y_values)\n",
    "plt.plot(x_values,regress_values,\"r-\")\n",
    "\n",
    "# Label plot and annotate the line equation\n",
    "plt.xlabel('Latitude')\n",
    "plt.ylabel('Max Temperature C')\n",
    "plt.title(\"Northern Emisphere Latitude vs Temperature Analysis\")\n",
    "plt.annotate(line_eq,(20,15),fontsize=15,color=\"red\")\n",
    "\n",
    "# Print r value\n",
    "print(f\"The r-value is: {rvalue**2}\")\n",
    "\n",
    "plt.savefig('Northern_emisphere_lat_v_maxtemp.png')\n",
    "# Show plot\n",
    "plt.show()"
   ]
  },
  {
   "cell_type": "markdown",
   "metadata": {},
   "source": [
    "####  Southern Hemisphere - Max Temp vs. Latitude Linear Regression"
   ]
  },
  {
   "cell_type": "code",
   "execution_count": 195,
   "metadata": {},
   "outputs": [
    {
     "name": "stdout",
     "output_type": "stream",
     "text": [
      "The r-value is: 0.239134159138429\n"
     ]
    },
    {
     "data": {
      "image/png": "[encoded data removed]",
      "text/plain": [
       "<Figure size 432x288 with 1 Axes>"
      ]
     },
     "metadata": {
      "needs_background": "light"
     },
     "output_type": "display_data"
    }
   ],
   "source": [
    "# Perform a linear regression on temperature vs. latitude from the northern emisphere greater than or equal to 0 degrees latitude\n",
    "x_values = southern_emisphere[\"Lat\"]\n",
    "y_values = southern_emisphere[\"Max Temp\"]\n",
    "(slope, intercept, rvalue, pvalue, stderr) = stats.linregress(x_values, y_values)\n",
    "\n",
    "# Get regression values\n",
    "regress_values = x_values * slope + intercept\n",
    "\n",
    "# Create line equation string\n",
    "line_eq = \"y = \" + str(round(slope,2)) + \"x +\" + str(round(intercept,2))\n",
    "\n",
    "# Create Plot\n",
    "plt.scatter(x_values,y_values)\n",
    "plt.plot(x_values,regress_values,\"r-\")\n",
    "\n",
    "# Label plot and annotate the line equation\n",
    "plt.xlabel('Latitude')\n",
    "plt.ylabel('Max Temperature C')\n",
    "plt.title(\"Southern Emisphere Latitude vs Temperature Analysis\")\n",
    "plt.annotate(line_eq,(-25,20),fontsize=15,color=\"red\")\n",
    "\n",
    "# Print r value\n",
    "print(f\"The r-value is: {rvalue**2}\")\n",
    "\n",
    "plt.savefig('Southern_emisphere_lat_v_maxtemp.png')\n",
    "# Show plot\n",
    "plt.show()"
   ]
  },
  {
   "cell_type": "code",
   "execution_count": 196,
   "metadata": {},
   "outputs": [
    {
     "name": "stdout",
     "output_type": "stream",
     "text": [
      "Theres clear evidence that as you approach to the poles temperatures drops, r-values help concludes that a linear regression can predict the temperature\n"
     ]
    }
   ],
   "source": [
    "print(\"Theres clear evidence that as you approach to the poles temperatures drops, r-values help concludes that a linear regression can predict the temperature\")"
   ]
  },
  {
   "cell_type": "markdown",
   "metadata": {},
   "source": [
    "####  Northern Hemisphere - Humidity (%) vs. Latitude Linear Regression"
   ]
  },
  {
   "cell_type": "code",
   "execution_count": 197,
   "metadata": {},
   "outputs": [
    {
     "name": "stdout",
     "output_type": "stream",
     "text": [
      "The r-value is: 0.08630325623487306\n"
     ]
    },
    {
     "data": {
      "image/png": "[encoded data removed]",
      "text/plain": [
       "<Figure size 432x288 with 1 Axes>"
      ]
     },
     "metadata": {
      "needs_background": "light"
     },
     "output_type": "display_data"
    }
   ],
   "source": [
    "# Perform a linear regression on temperature vs. latitude from the northern emisphere greater than or equal to 0 degrees latitude\n",
    "x_values = northern_emisphere[\"Lat\"]\n",
    "y_values = northern_emisphere[\"Humidity\"]\n",
    "(slope, intercept, rvalue, pvalue, stderr) = stats.linregress(x_values, y_values)\n",
    "\n",
    "# Get regression values\n",
    "regress_values = x_values * slope + intercept\n",
    "\n",
    "# Create line equation string\n",
    "line_eq = \"y = \" + str(round(slope,2)) + \"x +\" + str(round(intercept,2))\n",
    "\n",
    "# Create Plot\n",
    "plt.scatter(x_values,y_values)\n",
    "plt.plot(x_values,regress_values,\"r-\")\n",
    "\n",
    "# Label plot and annotate the line equation\n",
    "plt.xlabel('Latitude')\n",
    "plt.ylabel('Humidity %')\n",
    "plt.title(\"Northern Emisphere Latitude vs Humidity Analysis\")\n",
    "plt.annotate(line_eq,(30,80),fontsize=15,color=\"red\")\n",
    "\n",
    "# Print r value\n",
    "print(f\"The r-value is: {rvalue**2}\")\n",
    "\n",
    "plt.savefig('Northern_emisphere_lat_v_humidity.png')\n",
    "# Show plot\n",
    "plt.show()"
   ]
  },
  {
   "cell_type": "markdown",
   "metadata": {},
   "source": [
    "####  Southern Hemisphere - Humidity (%) vs. Latitude Linear Regression"
   ]
  },
  {
   "cell_type": "code",
   "execution_count": 199,
   "metadata": {},
   "outputs": [
    {
     "name": "stdout",
     "output_type": "stream",
     "text": [
      "The r-value is: 0.08461757703765499\n"
     ]
    },
    {
     "data": {
      "image/png": "[encoded data removed]",
      "text/plain": [
       "<Figure size 432x288 with 1 Axes>"
      ]
     },
     "metadata": {
      "needs_background": "light"
     },
     "output_type": "display_data"
    }
   ],
   "source": [
    "# Perform a linear regression on temperature vs. latitude from the northern emisphere greater than or equal to 0 degrees latitude\n",
    "x_values = southern_emisphere[\"Lat\"]\n",
    "y_values = southern_emisphere[\"Humidity\"]\n",
    "(slope, intercept, rvalue, pvalue, stderr) = stats.linregress(x_values, y_values)\n",
    "\n",
    "# Get regression values\n",
    "regress_values = x_values * slope + intercept\n",
    "\n",
    "# Create line equation string\n",
    "line_eq = \"y = \" + str(round(slope,2)) + \"x +\" + str(round(intercept,2))\n",
    "\n",
    "# Create Plot\n",
    "plt.scatter(x_values,y_values)\n",
    "plt.plot(x_values,regress_values,\"r-\")\n",
    "\n",
    "# Label plot and annotate the line equation\n",
    "plt.xlabel('Latitude')\n",
    "plt.ylabel('Humidity %')\n",
    "plt.title(\"Southern Emisphere Latitude vs Humidity Analysis\")\n",
    "plt.annotate(line_eq,(-50,80),fontsize=15,color=\"red\")\n",
    "\n",
    "# Print r value\n",
    "print(f\"The r-value is: {rvalue**2}\")\n",
    "\n",
    "plt.savefig('Southern_emisphere_lat_v_humidity.png')\n",
    "# Show plot\n",
    "plt.show()"
   ]
  },
  {
   "cell_type": "code",
   "execution_count": null,
   "metadata": {},
   "outputs": [],
   "source": [
    "print(\"there is no signifficant diference in humidity levels according to the geographical location, the r-values are far from 1\")"
   ]
  },
  {
   "cell_type": "markdown",
   "metadata": {},
   "source": [
    "####  Northern Hemisphere - Cloudiness (%) vs. Latitude Linear Regression"
   ]
  },
  {
   "cell_type": "code",
   "execution_count": 200,
   "metadata": {},
   "outputs": [
    {
     "name": "stdout",
     "output_type": "stream",
     "text": [
      "The r-value is: 0.0863218387069684\n"
     ]
    },
    {
     "data": {
      "image/png": "[encoded data removed]",
      "text/plain": [
       "<Figure size 432x288 with 1 Axes>"
      ]
     },
     "metadata": {
      "needs_background": "light"
     },
     "output_type": "display_data"
    }
   ],
   "source": [
    "# Perform a linear regression on temperature vs. latitude from the northern emisphere greater than or equal to 0 degrees latitude\n",
    "x_values = northern_emisphere[\"Lat\"]\n",
    "y_values = northern_emisphere[\"Cloudiness\"]\n",
    "(slope, intercept, rvalue, pvalue, stderr) = stats.linregress(x_values, y_values)\n",
    "\n",
    "# Get regression values\n",
    "regress_values = x_values * slope + intercept\n",
    "\n",
    "# Create line equation string\n",
    "line_eq = \"y = \" + str(round(slope,2)) + \"x +\" + str(round(intercept,2))\n",
    "\n",
    "# Create Plot\n",
    "plt.scatter(x_values,y_values)\n",
    "plt.plot(x_values,regress_values,\"r-\")\n",
    "\n",
    "# Label plot and annotate the line equation\n",
    "plt.xlabel('Latitude')\n",
    "plt.ylabel('Cloudiness %')\n",
    "plt.title(\"Northern Emisphere Latitude vs Cloudiness Analysis\")\n",
    "plt.annotate(line_eq,(30,80),fontsize=15,color=\"red\")\n",
    "\n",
    "# Print r value\n",
    "print(f\"The r-value is: {rvalue**2}\")\n",
    "\n",
    "plt.savefig('Northern_emisphere_lat_v_cloudiness.png')\n",
    "# Show plot\n",
    "plt.show()"
   ]
  },
  {
   "cell_type": "markdown",
   "metadata": {},
   "source": [
    "####  Southern Hemisphere - Cloudiness (%) vs. Latitude Linear Regression"
   ]
  },
  {
   "cell_type": "code",
   "execution_count": 201,
   "metadata": {},
   "outputs": [
    {
     "name": "stdout",
     "output_type": "stream",
     "text": [
      "The r-value is: 0.04741658769609883\n"
     ]
    },
    {
     "data": {
      "image/png": "[encoded data removed]",
      "text/plain": [
       "<Figure size 432x288 with 1 Axes>"
      ]
     },
     "metadata": {
      "needs_background": "light"
     },
     "output_type": "display_data"
    }
   ],
   "source": [
    "# Perform a linear regression on temperature vs. latitude from the northern emisphere greater than or equal to 0 degrees latitude\n",
    "x_values = southern_emisphere[\"Lat\"]\n",
    "y_values = southern_emisphere[\"Cloudiness\"]\n",
    "(slope, intercept, rvalue, pvalue, stderr) = stats.linregress(x_values, y_values)\n",
    "\n",
    "# Get regression values\n",
    "regress_values = x_values * slope + intercept\n",
    "\n",
    "# Create line equation string\n",
    "line_eq = \"y = \" + str(round(slope,2)) + \"x +\" + str(round(intercept,2))\n",
    "\n",
    "# Create Plot\n",
    "plt.scatter(x_values,y_values)\n",
    "plt.plot(x_values,regress_values,\"r-\")\n",
    "\n",
    "# Label plot and annotate the line equation\n",
    "plt.xlabel('Latitude')\n",
    "plt.ylabel('Cloudiness %')\n",
    "plt.title(\"Southern Emisphere Latitude vs Cloudiness Analysis\")\n",
    "plt.annotate(line_eq,(-30,60),fontsize=15,color=\"red\")\n",
    "\n",
    "# Print r value\n",
    "print(f\"The r-value is: {rvalue**2}\")\n",
    "\n",
    "plt.savefig('Southern_emisphere_lat_v_cloudiness.png')\n",
    "# Show plot\n",
    "plt.show()"
   ]
  },
  {
   "cell_type": "code",
   "execution_count": 202,
   "metadata": {},
   "outputs": [
    {
     "name": "stdout",
     "output_type": "stream",
     "text": [
      "There in no clear difference in the Cloudiness levels from the northern or southern emispheres according to the location\n"
     ]
    }
   ],
   "source": [
    "print(\"There in no clear difference in the Cloudiness levels from the northern or southern emispheres according to the location\")"
   ]
  },
  {
   "cell_type": "markdown",
   "metadata": {},
   "source": [
    "####  Northern Hemisphere - Wind Speed (mph) vs. Latitude Linear Regression"
   ]
  },
  {
   "cell_type": "code",
   "execution_count": 205,
   "metadata": {},
   "outputs": [
    {
     "name": "stdout",
     "output_type": "stream",
     "text": [
      "The r-value is: 0.009629490570505163\n"
     ]
    },
    {
     "data": {
      "image/png": "[encoded data removed]",
      "text/plain": [
       "<Figure size 432x288 with 1 Axes>"
      ]
     },
     "metadata": {
      "needs_background": "light"
     },
     "output_type": "display_data"
    }
   ],
   "source": [
    "# Perform a linear regression on temperature vs. latitude from the northern emisphere greater than or equal to 0 degrees latitude\n",
    "x_values = northern_emisphere[\"Lat\"]\n",
    "y_values = northern_emisphere[\"Wind Speed\"]\n",
    "(slope, intercept, rvalue, pvalue, stderr) = stats.linregress(x_values, y_values)\n",
    "\n",
    "# Get regression values\n",
    "regress_values = x_values * slope + intercept\n",
    "\n",
    "# Create line equation string\n",
    "line_eq = \"y = \" + str(round(slope,2)) + \"x +\" + str(round(intercept,2))\n",
    "\n",
    "# Create Plot\n",
    "plt.scatter(x_values,y_values)\n",
    "plt.plot(x_values,regress_values,\"r-\")\n",
    "\n",
    "# Label plot and annotate the line equation\n",
    "plt.xlabel('Latitude')\n",
    "plt.ylabel('Wind Speed')\n",
    "plt.title(\"Northern Emisphere Latitude vs Wind Speed\")\n",
    "plt.annotate(line_eq,(0,10),fontsize=15,color=\"red\")\n",
    "\n",
    "# Print r value\n",
    "print(f\"The r-value is: {rvalue**2}\")\n",
    "\n",
    "plt.savefig('Northern_emisphere_lat_v_wind_speed.png')\n",
    "# Show plot\n",
    "plt.show()"
   ]
  },
  {
   "cell_type": "markdown",
   "metadata": {},
   "source": [
    "####  Southern Hemisphere - Wind Speed (mph) vs. Latitude Linear Regression"
   ]
  },
  {
   "cell_type": "code",
   "execution_count": 207,
   "metadata": {},
   "outputs": [
    {
     "name": "stdout",
     "output_type": "stream",
     "text": [
      "The r-value is: 0.025820414513452142\n"
     ]
    },
    {
     "data": {
      "image/png": "[encoded data removed]",
      "text/plain": [
       "<Figure size 432x288 with 1 Axes>"
      ]
     },
     "metadata": {
      "needs_background": "light"
     },
     "output_type": "display_data"
    }
   ],
   "source": [
    "# Perform a linear regression on temperature vs. latitude from the northern emisphere greater than or equal to 0 degrees latitude\n",
    "x_values = southern_emisphere[\"Lat\"]\n",
    "y_values = southern_emisphere[\"Wind Speed\"]\n",
    "(slope, intercept, rvalue, pvalue, stderr) = stats.linregress(x_values, y_values)\n",
    "\n",
    "# Get regression values\n",
    "regress_values = x_values * slope + intercept\n",
    "\n",
    "# Create line equation string\n",
    "line_eq = \"y = \" + str(round(slope,2)) + \"x +\" + str(round(intercept,2))\n",
    "\n",
    "# Create Plot\n",
    "plt.scatter(x_values,y_values)\n",
    "plt.plot(x_values,regress_values,\"r-\")\n",
    "\n",
    "# Label plot and annotate the line equation\n",
    "plt.xlabel('Latitude')\n",
    "plt.ylabel('Wind Speed')\n",
    "plt.title(\"Southern Emisphere Latitude vs Wind Speed\")\n",
    "plt.annotate(line_eq,(-40,10),fontsize=15,color=\"red\")\n",
    "\n",
    "# Print r value\n",
    "print(f\"The r-value is: {rvalue**2}\")\n",
    "\n",
    "plt.savefig('Southern_emisphere_lat_v_wind_speed.png')\n",
    "# Show plot\n",
    "plt.show()"
   ]
  },
  {
   "cell_type": "code",
   "execution_count": 208,
   "metadata": {},
   "outputs": [
    {
     "name": "stdout",
     "output_type": "stream",
     "text": [
      "There is no difference in wind speed according to latitude location in both emispheres\n"
     ]
    }
   ],
   "source": [
    "print(\"There is no difference in wind speed according to latitude location in both emispheres\")"
   ]
  },
  {
   "cell_type": "code",
   "execution_count": null,
   "metadata": {},
   "outputs": [],
   "source": []
  }
 ],
 "metadata": {
  "anaconda-cloud": {},
  "kernel_info": {
   "name": "python3"
  },
  "kernelspec": {
   "display_name": "Python 3",
   "language": "python",
   "name": "python3"
  },
  "language_info": {
   "codemirror_mode": {
    "name": "ipython",
    "version": 3
   },
   "file_extension": ".py",
   "mimetype": "text/x-python",
   "name": "python",
   "nbconvert_exporter": "python",
   "pygments_lexer": "ipython3",
   "version": "3.8.5"
  },
  "latex_envs": {
   "LaTeX_envs_menu_present": true,
   "autoclose": false,
   "autocomplete": true,
   "bibliofile": "biblio.bib",
   "cite_by": "apalike",
   "current_citInitial": 1,
   "eqLabelWithNumbers": true,
   "eqNumInitial": 1,
   "hotkeys": {
    "equation": "Ctrl-E",
    "itemize": "Ctrl-I"
   },
   "labels_anchors": false,
   "latex_user_defs": false,
   "report_style_numbering": false,
   "user_envs_cfg": false
  },
  "nteract": {
   "version": "0.12.3"
  }
 },
 "nbformat": 4,
 "nbformat_minor": 2
}
